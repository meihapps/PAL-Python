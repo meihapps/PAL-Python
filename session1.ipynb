{
 "cells": [
  {
   "cell_type": "markdown",
   "metadata": {},
   "source": [
    "# What does Imperative look like in python?\n",
    "\n",
    "Imperative code is just a sequence of commands. Here's an example of imperative in action:"
   ]
  },
  {
   "cell_type": "code",
   "execution_count": null,
   "metadata": {},
   "outputs": [],
   "source": [
    "total = 0\n",
    "for i in range(10):\n",
    "    total += i\n",
    "print(total)"
   ]
  },
  {
   "cell_type": "markdown",
   "metadata": {},
   "source": [
    "# What about Object Oriented?\n",
    "\n",
    "Object Oriented is more about defining behaviours than commands. Here's an Object Oriented script:"
   ]
  },
  {
   "cell_type": "code",
   "execution_count": 4,
   "metadata": {},
   "outputs": [
    {
     "name": "stdout",
     "output_type": "stream",
     "text": [
      "[\n",
      "\t1,\n",
      "\t2,\n",
      "\t3,\n",
      "\t4,\n",
      "\t5\n",
      "]\n"
     ]
    }
   ],
   "source": [
    "class PrettyList:\n",
    "    def __init__(self, items):\n",
    "        self.items = items\n",
    "\n",
    "    def __str__(self):\n",
    "        return \"[\\n\\t\" + \",\\n\\t\".join(map(str, self.items)) + \"\\n]\"\n",
    "\n",
    "l = PrettyList([1,2,3,4,5])\n",
    "print(l)\n"
   ]
  },
  {
   "cell_type": "markdown",
   "metadata": {},
   "source": [
    "# And Functional?\n",
    "\n",
    "Functional is primarily about ensuring state does not impact the results of a function.\n",
    "So if I have a function `f` and I run `f` with the argument `5` and it returns `10`, every time I run `f` with the argument `5` it should return `10`.\n",
    "\n",
    "To make this clearer, here is an example of an impure function:"
   ]
  },
  {
   "cell_type": "code",
   "execution_count": 6,
   "metadata": {},
   "outputs": [
    {
     "name": "stdout",
     "output_type": "stream",
     "text": [
      "12\n",
      "17\n"
     ]
    }
   ],
   "source": [
    "x = 5\n",
    "def f(y):\n",
    "    return x + y\n",
    "\n",
    "print(f(7))\n",
    "x = 10\n",
    "print(f(7))"
   ]
  },
  {
   "cell_type": "markdown",
   "metadata": {},
   "source": [
    "As the result is dependant on things outside the function, it is not pure. Here's an example of a functional program, written in 2 equally functional ways:"
   ]
  },
  {
   "cell_type": "code",
   "execution_count": 10,
   "metadata": {},
   "outputs": [
    {
     "name": "stdout",
     "output_type": "stream",
     "text": [
      "[25, 36, 49, 64, 81]\n"
     ]
    }
   ],
   "source": [
    "xs = list(map(lambda x: x**2, range(5, 10)))\n",
    "xs = [x ** 2 for x in range(10) if x > 4]\n",
    "print(xs)"
   ]
  },
  {
   "cell_type": "markdown",
   "metadata": {},
   "source": [
    "Now that you know what each of these approaches look like, take a crack at these problems:\n",
    "\n",
    "# Imperative Fibonacci Sequence\n",
    "\n",
    "The fibonacci sequence is a number sequence, starting with `0, 1`, in which each entry is the sum of the previous 2 entries.\n",
    "ex: `0,1,1,2,3,5,8`\n",
    "\n",
    "Write something that computes the first N values in this sequence in an imperative manner."
   ]
  },
  {
   "cell_type": "code",
   "execution_count": 11,
   "metadata": {},
   "outputs": [
    {
     "name": "stdout",
     "output_type": "stream",
     "text": [
      "0\n",
      "1\n",
      "1\n",
      "2\n",
      "3\n",
      "5\n",
      "8\n",
      "13\n",
      "21\n",
      "34\n"
     ]
    }
   ],
   "source": [
    "N = 10\n",
    "a, b = 0, 1\n",
    "for _ in range(N):\n",
    "    print(a)\n",
    "    a, b = b, a + b"
   ]
  },
  {
   "cell_type": "markdown",
   "metadata": {},
   "source": [
    "# Object Oriented Sorting Problem\n",
    "\n",
    "In this sorting problem, we will be sorting strings. A string will be considered \"less than\" another string if it has more vowels.\n",
    "If strings are considered equivalent, the tie should be broken with the one with fewer consonants being considered \"less\".\n",
    "If they are still considered equivalent, sort them alphabetically.\n",
    "\n",
    "For this you will need to look into the method `__lt__`\n",
    "\n",
    "This must be done in an object oriented manner."
   ]
  },
  {
   "cell_type": "code",
   "execution_count": 19,
   "metadata": {},
   "outputs": [
    {
     "name": "stdout",
     "output_type": "stream",
     "text": [
      "aaab aaabb aaabbb aab aabb aebb aabbb ab abb abbb\n"
     ]
    }
   ],
   "source": [
    "class SortString:\n",
    "    def __init__(self, string):\n",
    "        self.string = string\n",
    "\n",
    "    def __lt__(self, other):\n",
    "        vowels = lambda x: len([c for c in x if c in \"aeiou\"])\n",
    "        if vowels(self.string) > vowels(other.string):\n",
    "            return True\n",
    "        consonants = lambda x: len([c for c in x if c in \"bcdfghjklmnpqrstvwxyz\"])\n",
    "        if consonants(self.string) < consonants(other.string):\n",
    "            return True\n",
    "        return self.string < other.string\n",
    "    \n",
    "    def __str__(self):\n",
    "        return self.string\n",
    "\n",
    "strings = list(map(SortString, [\"ab\", \"aab\", \"aaab\", \"abb\", \"aabb\", \"aaabb\", \"abbb\", \"aabbb\", \"aaabbb\", \"aebb\"]))\n",
    "print(*map(str, sorted(strings)))"
   ]
  },
  {
   "cell_type": "markdown",
   "metadata": {},
   "source": [
    "# Functional Maths Problem\n",
    "\n",
    "For this problem, you will be trying to find every number X that matches the properties listed below:\n",
    "- the square of X has 3 digits\n",
    "- there is a gap of no more than 3 between X^2's first and last digits\n",
    "- 0 <= X < 100\n",
    "\n",
    "This must be done in a functional manner."
   ]
  },
  {
   "cell_type": "code",
   "execution_count": 24,
   "metadata": {},
   "outputs": [
    {
     "name": "stdout",
     "output_type": "stream",
     "text": [
      "[10, 11, 12, 15, 18, 19, 21, 22, 24, 25, 26, 27, 28]\n"
     ]
    }
   ],
   "source": [
    "xs = [\n",
    "    x for x in range(100)\n",
    "    if len(str(x**2)) == 3\n",
    "    and abs(int(str(x**2)[0]) - int(str(x**2)[-1])) <= 3\n",
    "    ]\n",
    "print(xs)"
   ]
  }
 ],
 "metadata": {
  "kernelspec": {
   "display_name": "PAL-Python",
   "language": "python",
   "name": "python3"
  },
  "language_info": {
   "codemirror_mode": {
    "name": "ipython",
    "version": 3
   },
   "file_extension": ".py",
   "mimetype": "text/x-python",
   "name": "python",
   "nbconvert_exporter": "python",
   "pygments_lexer": "ipython3",
   "version": "3.13.1"
  }
 },
 "nbformat": 4,
 "nbformat_minor": 2
}
